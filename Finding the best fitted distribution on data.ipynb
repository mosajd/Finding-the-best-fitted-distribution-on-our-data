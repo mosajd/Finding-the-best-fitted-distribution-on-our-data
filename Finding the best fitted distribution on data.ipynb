{
 "cells": [
  {
   "cell_type": "markdown",
   "id": "edbadc30",
   "metadata": {},
   "source": [
    "<h1 style='text-align: center'>Finding the Best Distribution that Fits the Data</h1>"
   ]
  },
  {
   "cell_type": "markdown",
   "id": "d86e07cc",
   "metadata": {},
   "source": [
    "We have velocity data of a turbine in an excel file.\n",
    "We need to find the best fitted distribution on these velocity data to create random variable and find the power of turbine.\n",
    "According to the below picture, the histogram of the velocity is created in the Matlab. \n",
    "Then by using the 'Distribution Fitter' in Matlab, applied various distributions.\n",
    "By looking at these four distributions, we could not detect the best fitted one on our data.\n",
    "So we tried to implement some methods inside the python to find the best one.\n",
    "In the following steps we explain these methods."
   ]
  },
  {
   "cell_type": "markdown",
   "id": "75aa09fe",
   "metadata": {},
   "source": [
    "\n",
    "<img src=\"files/distributions_on_velocity_matlab.png\" alt=\"K-S test table p-value\">"
   ]
  },
  {
   "cell_type": "code",
   "execution_count": 181,
   "id": "96617248",
   "metadata": {},
   "outputs": [
    {
     "data": {
      "text/html": [
       "<div>\n",
       "<style scoped>\n",
       "    .dataframe tbody tr th:only-of-type {\n",
       "        vertical-align: middle;\n",
       "    }\n",
       "\n",
       "    .dataframe tbody tr th {\n",
       "        vertical-align: top;\n",
       "    }\n",
       "\n",
       "    .dataframe thead th {\n",
       "        text-align: right;\n",
       "    }\n",
       "</style>\n",
       "<table border=\"1\" class=\"dataframe\">\n",
       "  <thead>\n",
       "    <tr style=\"text-align: right;\">\n",
       "      <th></th>\n",
       "      <th>velocity min 85</th>\n",
       "      <th>velocity max 85</th>\n",
       "      <th>velocity min 62</th>\n",
       "      <th>velocity max 62</th>\n",
       "      <th>velocity min 41.5</th>\n",
       "      <th>velocity max 41.5</th>\n",
       "    </tr>\n",
       "  </thead>\n",
       "  <tbody>\n",
       "    <tr>\n",
       "      <th>0</th>\n",
       "      <td>83</td>\n",
       "      <td>91</td>\n",
       "      <td>74</td>\n",
       "      <td>82</td>\n",
       "      <td>56</td>\n",
       "      <td>65</td>\n",
       "    </tr>\n",
       "    <tr>\n",
       "      <th>1</th>\n",
       "      <td>83</td>\n",
       "      <td>89</td>\n",
       "      <td>72</td>\n",
       "      <td>82</td>\n",
       "      <td>54</td>\n",
       "      <td>65</td>\n",
       "    </tr>\n",
       "    <tr>\n",
       "      <th>2</th>\n",
       "      <td>77</td>\n",
       "      <td>85</td>\n",
       "      <td>69</td>\n",
       "      <td>77</td>\n",
       "      <td>52</td>\n",
       "      <td>61</td>\n",
       "    </tr>\n",
       "    <tr>\n",
       "      <th>3</th>\n",
       "      <td>79</td>\n",
       "      <td>89</td>\n",
       "      <td>71</td>\n",
       "      <td>79</td>\n",
       "      <td>54</td>\n",
       "      <td>63</td>\n",
       "    </tr>\n",
       "    <tr>\n",
       "      <th>4</th>\n",
       "      <td>82</td>\n",
       "      <td>95</td>\n",
       "      <td>72</td>\n",
       "      <td>83</td>\n",
       "      <td>54</td>\n",
       "      <td>69</td>\n",
       "    </tr>\n",
       "    <tr>\n",
       "      <th>...</th>\n",
       "      <td>...</td>\n",
       "      <td>...</td>\n",
       "      <td>...</td>\n",
       "      <td>...</td>\n",
       "      <td>...</td>\n",
       "      <td>...</td>\n",
       "    </tr>\n",
       "    <tr>\n",
       "      <th>62127</th>\n",
       "      <td>41</td>\n",
       "      <td>62</td>\n",
       "      <td>39</td>\n",
       "      <td>60</td>\n",
       "      <td>38</td>\n",
       "      <td>57</td>\n",
       "    </tr>\n",
       "    <tr>\n",
       "      <th>62128</th>\n",
       "      <td>46</td>\n",
       "      <td>66</td>\n",
       "      <td>44</td>\n",
       "      <td>62</td>\n",
       "      <td>39</td>\n",
       "      <td>59</td>\n",
       "    </tr>\n",
       "    <tr>\n",
       "      <th>62129</th>\n",
       "      <td>54</td>\n",
       "      <td>80</td>\n",
       "      <td>50</td>\n",
       "      <td>75</td>\n",
       "      <td>44</td>\n",
       "      <td>74</td>\n",
       "    </tr>\n",
       "    <tr>\n",
       "      <th>62130</th>\n",
       "      <td>57</td>\n",
       "      <td>76</td>\n",
       "      <td>57</td>\n",
       "      <td>69</td>\n",
       "      <td>54</td>\n",
       "      <td>74</td>\n",
       "    </tr>\n",
       "    <tr>\n",
       "      <th>62131</th>\n",
       "      <td>41</td>\n",
       "      <td>64</td>\n",
       "      <td>41</td>\n",
       "      <td>64</td>\n",
       "      <td>38</td>\n",
       "      <td>59</td>\n",
       "    </tr>\n",
       "  </tbody>\n",
       "</table>\n",
       "<p>62132 rows × 6 columns</p>\n",
       "</div>"
      ],
      "text/plain": [
       "       velocity min 85  velocity max 85  velocity min 62  velocity max 62  \\\n",
       "0                   83               91               74               82   \n",
       "1                   83               89               72               82   \n",
       "2                   77               85               69               77   \n",
       "3                   79               89               71               79   \n",
       "4                   82               95               72               83   \n",
       "...                ...              ...              ...              ...   \n",
       "62127               41               62               39               60   \n",
       "62128               46               66               44               62   \n",
       "62129               54               80               50               75   \n",
       "62130               57               76               57               69   \n",
       "62131               41               64               41               64   \n",
       "\n",
       "       velocity min 41.5  velocity max 41.5  \n",
       "0                     56                 65  \n",
       "1                     54                 65  \n",
       "2                     52                 61  \n",
       "3                     54                 63  \n",
       "4                     54                 69  \n",
       "...                  ...                ...  \n",
       "62127                 38                 57  \n",
       "62128                 39                 59  \n",
       "62129                 44                 74  \n",
       "62130                 54                 74  \n",
       "62131                 38                 59  \n",
       "\n",
       "[62132 rows x 6 columns]"
      ]
     },
     "execution_count": 181,
     "metadata": {},
     "output_type": "execute_result"
    }
   ],
   "source": [
    "import pandas as pd\n",
    "\n",
    "data = pd.read_excel('files\\wind_data.xls')\n",
    "df = pd.DataFrame(data)\n",
    "df"
   ]
  },
  {
   "cell_type": "markdown",
   "id": "1a90d9b7",
   "metadata": {},
   "source": [
    "The data we use in our exersise are inside the 'velocity max 41.5' column.\n",
    "At the first we need to delete negative and zero values for velocity and only keep positive values."
   ]
  },
  {
   "cell_type": "code",
   "execution_count": 52,
   "id": "08e30d8d",
   "metadata": {},
   "outputs": [
    {
     "data": {
      "text/plain": [
       "50431      3\n",
       "8644       4\n",
       "59730      4\n",
       "16392      4\n",
       "7033       4\n",
       "        ... \n",
       "21214    239\n",
       "15160    241\n",
       "21220    241\n",
       "15159    245\n",
       "21276    249\n",
       "Name: velocity max 41.5, Length: 61935, dtype: int64"
      ]
     },
     "execution_count": 52,
     "metadata": {},
     "output_type": "execute_result"
    }
   ],
   "source": [
    "dd = df.loc[:]['velocity max 41.5']\n",
    "dd = dd[dd > 0]\n",
    "dd.sort_values()"
   ]
  },
  {
   "cell_type": "markdown",
   "id": "df0ddc1f",
   "metadata": {},
   "source": [
    "So this column contains 61935 data points. <br>\n",
    "Before fitting any distributions to our data, it’s wise to first plot a histogram of our data and visually observe it:"
   ]
  },
  {
   "cell_type": "code",
   "execution_count": 147,
   "id": "fcbc0cb9",
   "metadata": {},
   "outputs": [
    {
     "data": {
      "image/png": "[encoded data removed]",
      "text/plain": [
       "<Figure size 720x504 with 1 Axes>"
      ]
     },
     "metadata": {},
     "output_type": "display_data"
    }
   ],
   "source": [
    "from matplotlib import pyplot as plt\n",
    "\n",
    "fig, ax = plt.subplots(figsize =(10, 7))\n",
    "ax.hist(dd, bins=50)\n",
    "plt.title('Positive Velocity max 41.5 turbin')\n",
    "plt.xlabel('Velocity (m/s)')\n",
    "plt.ylabel('Frequency')\n",
    "plt.show()"
   ]
  },
  {
   "cell_type": "markdown",
   "id": "be9950a6",
   "metadata": {},
   "source": [
    "<h2>FITTER library in python</h2>"
   ]
  },
  {
   "cell_type": "markdown",
   "id": "6d972966",
   "metadata": {},
   "source": [
    "We came across the <a href='https://fitter.readthedocs.io/'>Fitter</a> library. This library is a lifesaver. It uses Scipy library in the backend for distribution fitting and supports 80 distributions, which is huge."
   ]
  },
  {
   "cell_type": "markdown",
   "id": "a5df774e",
   "metadata": {},
   "source": [
    "<h5>Fitting distributions</h5>\n",
    "<p>The next step is to start fitting different distributions and finding out the best-suited distribution for the data.</p>\n",
    "The steps are:\n",
    "<ol>\n",
    "    <li>Create a Fitter instance by calling the <code>Fitter( )</code></li>\n",
    "<li>Supply the data (velocity max 41.5) and distributions list if you have a basic idea of the distributions that might fit your data</li>\n",
    "    <li>Apply the <code>.fit( )</code> method</li>\n",
    "    <li>Generate the fitted distribution summary using <code>.summary( )</code> method</li>\n",
    "</ol>    \n",
    "Before getting into distribution fitting, let’s review a simple handful of theories. There are a couple of methods to estimate parameters of a distribution based on the given data.\n",
    "<ul>\n",
    "    <li><a href='https://en.wikipedia.org/wiki/Maximum_likelihood_estimation'>Maximum Likelihood Estimation (MLE)</a>,</li>\n",
    "    <li><a href='https://en.wikipedia.org/wiki/Akaike_information_criterion'>Akaike information criterion (AIC)</a>,</li>\n",
    "    <li><a href='https://en.wikipedia.org/wiki/Posterior_probability'>Maximizing Bayesian Posterior Probability</a>, etc.</li> \n",
    "</ul>\n",
    "<p>SciPy and Fitting perform parameter estimation using MLE <a href='https://docs.scipy.org/doc/scipy/reference/generated/scipy.stats.rv_continuous.fit.html'>(documentation).</a></p>\n",
    "    "
   ]
  },
  {
   "cell_type": "markdown",
   "id": "83c1c3a2",
   "metadata": {},
   "source": [
    "<h5>Common distributions</h5>\n",
    "<p>Before we generate samples and fit distributions, one important thing to note is that the Fitter library also has a <code>get_common_distribution( )</code> method which includes 10 common distributions. This could come in handy when you don’t have any idea about the distributions that might fit your data.</p>"
   ]
  },
  {
   "cell_type": "code",
   "execution_count": 86,
   "id": "d7fef5fe",
   "metadata": {},
   "outputs": [
    {
     "data": {
      "text/plain": [
       "['cauchy',\n",
       " 'chi2',\n",
       " 'expon',\n",
       " 'exponpow',\n",
       " 'gamma',\n",
       " 'lognorm',\n",
       " 'norm',\n",
       " 'powerlaw',\n",
       " 'rayleigh',\n",
       " 'uniform']"
      ]
     },
     "execution_count": 86,
     "metadata": {},
     "output_type": "execute_result"
    }
   ],
   "source": [
    "from fitter import Fitter, get_common_distributions, get_distributions\n",
    "get_common_distributions()"
   ]
  },
  {
   "cell_type": "markdown",
   "id": "a91a7266",
   "metadata": {},
   "source": [
    "By using the <b>Fitter Distribution</b> tool in Matlab we found <b>Log Logistic</b>, <b>Gamma</b>, <b>Burr</b> and <b>Generalized Extreme Value</b> which are close to our data.\n",
    "So we added these distributions to the common distribution found by Fitter library to check which one are better fitted."
   ]
  },
  {
   "cell_type": "code",
   "execution_count": 92,
   "id": "44e6cdb4",
   "metadata": {},
   "outputs": [],
   "source": [
    "distributions = ['cauchy', 'chi2', 'expon', 'exponpow', 'gamma', 'lognorm', 'norm', 'powerlaw', 'rayleigh', 'uniform', \n",
    "                 'genextreme', 'burr', 'logistic', 'fisk']"
   ]
  },
  {
   "cell_type": "code",
   "execution_count": 93,
   "id": "178cfe82",
   "metadata": {},
   "outputs": [
    {
     "data": {
      "text/html": [
       "<div>\n",
       "<style scoped>\n",
       "    .dataframe tbody tr th:only-of-type {\n",
       "        vertical-align: middle;\n",
       "    }\n",
       "\n",
       "    .dataframe tbody tr th {\n",
       "        vertical-align: top;\n",
       "    }\n",
       "\n",
       "    .dataframe thead th {\n",
       "        text-align: right;\n",
       "    }\n",
       "</style>\n",
       "<table border=\"1\" class=\"dataframe\">\n",
       "  <thead>\n",
       "    <tr style=\"text-align: right;\">\n",
       "      <th></th>\n",
       "      <th>sumsquare_error</th>\n",
       "      <th>aic</th>\n",
       "      <th>bic</th>\n",
       "      <th>kl_div</th>\n",
       "    </tr>\n",
       "  </thead>\n",
       "  <tbody>\n",
       "    <tr>\n",
       "      <th>burr</th>\n",
       "      <td>0.000181</td>\n",
       "      <td>1334.402590</td>\n",
       "      <td>-1.217106e+06</td>\n",
       "      <td>inf</td>\n",
       "    </tr>\n",
       "    <tr>\n",
       "      <th>fisk</th>\n",
       "      <td>0.000182</td>\n",
       "      <td>1324.858025</td>\n",
       "      <td>-1.216857e+06</td>\n",
       "      <td>inf</td>\n",
       "    </tr>\n",
       "    <tr>\n",
       "      <th>genextreme</th>\n",
       "      <td>0.000200</td>\n",
       "      <td>1355.257509</td>\n",
       "      <td>-1.210739e+06</td>\n",
       "      <td>inf</td>\n",
       "    </tr>\n",
       "    <tr>\n",
       "      <th>lognorm</th>\n",
       "      <td>0.000209</td>\n",
       "      <td>1356.852995</td>\n",
       "      <td>-1.208122e+06</td>\n",
       "      <td>inf</td>\n",
       "    </tr>\n",
       "    <tr>\n",
       "      <th>gamma</th>\n",
       "      <td>0.000226</td>\n",
       "      <td>1376.379261</td>\n",
       "      <td>-1.203188e+06</td>\n",
       "      <td>inf</td>\n",
       "    </tr>\n",
       "  </tbody>\n",
       "</table>\n",
       "</div>"
      ],
      "text/plain": [
       "            sumsquare_error          aic           bic  kl_div\n",
       "burr               0.000181  1334.402590 -1.217106e+06     inf\n",
       "fisk               0.000182  1324.858025 -1.216857e+06     inf\n",
       "genextreme         0.000200  1355.257509 -1.210739e+06     inf\n",
       "lognorm            0.000209  1356.852995 -1.208122e+06     inf\n",
       "gamma              0.000226  1376.379261 -1.203188e+06     inf"
      ]
     },
     "execution_count": 93,
     "metadata": {},
     "output_type": "execute_result"
    },
    {
     "data": {
      "image/png": "[encoded data removed]",
      "text/plain": [
       "<Figure size 432x288 with 1 Axes>"
      ]
     },
     "metadata": {},
     "output_type": "display_data"
    }
   ],
   "source": [
    "from scipy import stats\n",
    "from fitter import Fitter\n",
    "f = Fitter(dd, distributions=distributions)\n",
    "f.fit()\n",
    "f.summary()"
   ]
  },
  {
   "cell_type": "markdown",
   "id": "de5e9f35",
   "metadata": {},
   "source": [
    "<p>Here, we have fitted 14 different distributions. Calling the <code>summary( )</code> method on the fitted object shows the different distributions and fit statistics such as <b>sumsquare_error</b>, <b>Akaike information criterion (aic)</b> and <b>Bayesian information criterion (bic)</b> values. By default, the summary function ranks the best five distributions based on the <code>sumsquare_error</code> values in ascending order. Additionally, it provides an illustration of different distributions fitted over a histogram.</p>\n",
    "Based on the <code>sumsquare_error</code> value the best distribution for our data is the <b>burr distribution</b>."
   ]
  },
  {
   "cell_type": "markdown",
   "id": "9a2a297a",
   "metadata": {},
   "source": [
    "<h5>Identifying the best distribution by <code>get_best( )</code> method</h5>\n",
    "<p>We can also retrieve the best distribution using the <code>get_best( )</code> method where we can also supply the method for selecting the best distribution. Here, we have supplied the <b>sumsquare_error</b> in the method argument as selection criteria. It will print the distribution name and corresponding parameters which has the lowest sumsquare_error.</p>"
   ]
  },
  {
   "cell_type": "code",
   "execution_count": 55,
   "id": "9f36684f",
   "metadata": {},
   "outputs": [
    {
     "data": {
      "text/plain": [
       "{'burr': {'c': 4.208764504474081,\n",
       "  'd': 0.5842114865761847,\n",
       "  'loc': -0.1511075995186364,\n",
       "  'scale': 74.88881470682865}}"
      ]
     },
     "execution_count": 55,
     "metadata": {},
     "output_type": "execute_result"
    }
   ],
   "source": [
    "f.get_best(method = 'sumsquare_error')"
   ]
  },
  {
   "cell_type": "markdown",
   "id": "203d9be1",
   "metadata": {},
   "source": [
    "<p>We can see that again the <b>beta distribution</b> is the best fit based on the <b>sumsquare_error</b> criteria. It also prints the optimized parameters for the beta distribution. It comprised of <b>shape parameters (c , d)</b>, <b>location</b> and <b>scale</b> parameters for beta distribution.</p>"
   ]
  },
  {
   "cell_type": "markdown",
   "id": "e8041590",
   "metadata": {},
   "source": [
    "<h5>Identifying the parameters</h5>\n",
    "<p>We can also print the fitted parameters using the <code>fitted_param</code> attribute for all of the sistributions we defined.</p>"
   ]
  },
  {
   "cell_type": "code",
   "execution_count": 122,
   "id": "eeea04a1",
   "metadata": {},
   "outputs": [
    {
     "data": {
      "text/plain": [
       "{'expon': (3.0, 63.92164365867441),\n",
       " 'norm': (66.92164365867441, 33.935393895678544),\n",
       " 'uniform': (3.0, 246.0),\n",
       " 'rayleigh': (5.420068079667769, 49.6691793648492),\n",
       " 'cauchy': (59.17137058462832, 17.51551723574811),\n",
       " 'logistic': (63.629635758043264, 18.47042707501949),\n",
       " 'gamma': (4.185067258212374, -2.1383670318074968, 16.501527128032045),\n",
       " 'powerlaw': (0.8752845573408597, -22.35150312102521, 271.35150313877637),\n",
       " 'lognorm': (0.358588928682095, -25.327059881205535, 86.51710962382785),\n",
       " 'chi2': (0.6438935239625465, 2.9999999999999996, 3.186664773177556),\n",
       " 'genextreme': (-0.006963608912110806, 51.48822006029757, 26.33582307843775),\n",
       " 'exponpow': (0.11550589548392515, 2.9999999999999996, 3.78474211573226),\n",
       " 'fisk': (4.445271453686372, -17.628405615323786, 78.55023767755438),\n",
       " 'burr': (4.208764504474081,\n",
       "  0.5842114865761847,\n",
       "  -0.1511075995186364,\n",
       "  74.88881470682865)}"
      ]
     },
     "execution_count": 122,
     "metadata": {},
     "output_type": "execute_result"
    }
   ],
   "source": [
    "f.fitted_param"
   ]
  },
  {
   "cell_type": "code",
   "execution_count": 123,
   "id": "fb447e31",
   "metadata": {},
   "outputs": [
    {
     "data": {
      "text/plain": [
       "(4.445271453686372, -17.628405615323786, 78.55023767755438)"
      ]
     },
     "execution_count": 123,
     "metadata": {},
     "output_type": "execute_result"
    }
   ],
   "source": [
    "f.fitted_param['fisk']"
   ]
  },
  {
   "cell_type": "markdown",
   "id": "b1d68a1d",
   "metadata": {},
   "source": [
    "<h2>Choose the best distribution using Kolmogorov-Smirnov test</h2>"
   ]
  },
  {
   "cell_type": "markdown",
   "id": "ef4bf53d",
   "metadata": {},
   "source": [
    "According to the definition, the <a href='https://daithiocrualaoich.github.io/kolmogorov_smirnov/'>Kolmogorov–Smirnov</a> statistic quantifies a distance between the empirical distribution function of the sample and the cumulative distribution function of the reference distribution.\n",
    "\n",
    "<h6>What does it mean?</h6>\n",
    "<p>It means that we can use this test to verify whether the probability distribution fits the data. In order to do it we must specify the significance level. Usually, 0.05 is used. As in every statistical test if the p-value (calculated by the test) is smaller than the significance level, we reject the null hypothesis.</p>\n",
    "\n",
    "<h6>What is the hypothesis?</h6>\n",
    "<p><b>Null hypothesis:</b> the data matches the given distribution (there is no difference between both distributions).<br> \n",
    "<b>Alternative Hypothesis:</b> at least one value does not match the specified distribution.</p>\n",
    "\n",
    "<p>One of the most frequently tests for normality is the Kolmogorov-Smirnov test (or K-S test). A major advantage compared to other tests is that Kolmogorov-Smirnov test is nonparametric, meaning that it is distribution-free. When you fit a certain probability distribution to your data, you must then test the <b>goodness of fit</b>. Kolmogorov–Smirnov test is an option and the widely used one.</p>\n",
    "\n",
    "<p>The Kolmogorov-Smirnov test statistic measures the distance between the empirical distribution function (ECDF) of the sample and the cumulative distribution function of the reference distribution.</p>\n",
    "\n",
    "<p>In our example, the empirical distribution function will come from our velocity data. And we compared it to varius cumulative distributions.</p>"
   ]
  },
  {
   "cell_type": "markdown",
   "id": "a552ef1a",
   "metadata": {},
   "source": [
    "We want to determine how well our data fits a Burr distribution:"
   ]
  },
  {
   "cell_type": "code",
   "execution_count": 91,
   "id": "56a11209",
   "metadata": {},
   "outputs": [],
   "source": [
    "import pandas as pd\n",
    "import numpy as np\n",
    "from scipy import stats\n",
    "from scipy.stats import kstest\n",
    "import matplotlib.pyplot as plt"
   ]
  },
  {
   "cell_type": "code",
   "execution_count": 59,
   "id": "094516b7",
   "metadata": {},
   "outputs": [
    {
     "name": "stdout",
     "output_type": "stream",
     "text": [
      "(4.208764504474081, 0.5842114865761847, -0.1511075995186364, 74.88881470682865)\n"
     ]
    }
   ],
   "source": [
    "dist = getattr(stats, 'burr')\n",
    "parameters = dist.fit(dd)\n",
    "print(parameters)"
   ]
  },
  {
   "cell_type": "markdown",
   "id": "d9b40f61",
   "metadata": {},
   "source": [
    "<p>In the first line, we get a scipy 'burr' distbution object.<br>\n",
    "Second line, we fit the data to the burr distribution and get the parameters.<br>\n",
    "Then we print the parameters.</p>\n",
    "<p>The first (4.208764504474081) and second (0.5842114865761847) parameters are shape parameters.<br>\n",
    "The third one (-0.1511075995186364) is 'loc' or 'location' parameter.<br>\n",
    "And finally the forth one (74.88881470682865) is 'scale' parameter.</p>"
   ]
  },
  {
   "cell_type": "markdown",
   "id": "5218f159",
   "metadata": {},
   "source": [
    "<h5>Kolmogorov–Smirnov test for more distribution</h5>\n",
    "<p>SicPy has more than <a href='https://docs.scipy.org/doc/scipy/reference/stats.html'>90 continuous distributions</a>. It is better to fit our data to all of these distributions and compare the results.</p>"
   ]
  },
  {
   "cell_type": "code",
   "execution_count": 62,
   "id": "ac739a75",
   "metadata": {},
   "outputs": [
    {
     "name": "stdout",
     "output_type": "stream",
     "text": [
      "fisk: statistic=0.016594404322601605, pvalue=3.029160312639502e-15\n",
      "nct: statistic=0.01753880587469775, pvalue=5.580714158378174e-17\n",
      "burr: statistic=0.018061040395190964, pvalue=5.575110770725317e-18\n",
      "mielke: statistic=0.019252722215883145, pvalue=2.256543848623362e-20\n",
      "exponnorm: statistic=0.020076308007969612, pvalue=4.0776769320673824e-22\n",
      "alpha: statistic=0.023044380279991783, pvalue=5.284969366902031e-29\n",
      "invweibull: statistic=0.02395484277206117, pvalue=2.631678566040765e-31\n",
      "genextreme: statistic=0.023955655387655872, pvalue=2.619012968463821e-31\n",
      "genlogistic: statistic=0.024211769054810928, pvalue=5.678693746665028e-32\n",
      "gumbel_r: statistic=0.02477782292032471, pvalue=1.8276240138970993e-33\n",
      "invgamma: statistic=0.024915034663935298, pvalue=7.851313947994803e-34\n",
      "burr12: statistic=0.025864479720166922, pvalue=1.996631994100246e-36\n",
      "lognorm: statistic=0.027029663286277095, pvalue=9.625315962004955e-40\n",
      "johnsonsu: statistic=0.027060127650756605, pvalue=7.847510613486546e-40\n",
      "exponweib: statistic=0.027953834067246275, pvalue=1.77270919159506e-42\n",
      "fatiguelife: statistic=0.029781532361085383, pvalue=3.709454035983199e-48\n",
      "recipinvgauss: statistic=0.030000035771970635, pvalue=7.349540997598995e-49\n",
      "johnsonsb: statistic=0.030614158090305987, pvalue=7.29018162105563e-51\n",
      "gengamma: statistic=0.03107035657400614, pvalue=2.2290993908364785e-52\n",
      "invgauss: statistic=0.03140311620443187, pvalue=1.6951348260353567e-53\n",
      "betaprime: statistic=0.03154044724771665, pvalue=5.806874845688092e-54\n",
      "f: statistic=0.03374299841229711, pvalue=1.0575952140591709e-61\n",
      "loglaplace: statistic=0.03434976501868364, pvalue=6.314589575750826e-64\n",
      "pearson3: statistic=0.03451301232609516, pvalue=1.5675589593023204e-64\n",
      "gamma: statistic=0.034513270179557076, pvalue=1.564104652399914e-64\n",
      "erlang: statistic=0.03451368157505408, pvalue=1.5586091360405062e-64\n",
      "beta: statistic=0.0345737577923092, pvalue=9.317961128731084e-65\n",
      "kstwobign: statistic=0.039699599231042604, pvalue=2.9812482301877785e-85\n",
      "logistic: statistic=0.050069164390348114, pvalue=2.2350979965056047e-135\n",
      "tukeylambda: statistic=0.05276275685864281, pvalue=2.6926973722030097e-150\n",
      "hypsecant: statistic=0.05524768571363999, pvalue=9.37517760621565e-165\n",
      "gausshyper: statistic=0.05558748034110583, pvalue=8.77186902312835e-167\n",
      "gennorm: statistic=0.05770854263310449, pvalue=9.917729641267726e-180\n",
      "rice: statistic=0.05882306594896325, pvalue=9.969212025008096e-187\n",
      "dgamma: statistic=0.05954308011909911, pvalue=2.5499127700322192e-191\n",
      "dweibull: statistic=0.05989616087917625, pvalue=1.3619258932536616e-193\n",
      "chi: statistic=0.06122839630564281, pvalue=2.746159784060197e-202\n",
      "nakagami: statistic=0.06122901095637234, pvalue=2.7206314958042003e-202\n",
      "rayleigh: statistic=0.06202753051087817, pvalue=1.351248123291227e-207\n",
      "laplace: statistic=0.06495939536919451, pvalue=1.161993153948726e-227\n",
      "vonmises_line: statistic=0.06881322251806632, pvalue=1.8834771570208208e-255\n",
      "maxwell: statistic=0.07070530339518954, pvalue=1.1028580903332137e-269\n",
      "t: statistic=0.07182043354050716, pvalue=2.970197445399803e-278\n",
      "foldcauchy: statistic=0.07186737526178377, pvalue=1.2855389658266304e-278\n",
      "anglit: statistic=0.36276428285376255, pvalue=0.0\n",
      "arcsine: statistic=0.4326576265197799, pvalue=0.0\n",
      "bradford: statistic=0.31097886634218175, pvalue=0.0\n",
      "cauchy: statistic=0.10503540496325979, pvalue=0.0\n",
      "chi2: statistic=0.9549033316542924, pvalue=0.0\n",
      "cosine: statistic=0.28504537752967146, pvalue=0.0\n",
      "expon: statistic=0.24654871504449366, pvalue=0.0\n",
      "exponpow: statistic=0.8647502444160463, pvalue=0.0\n",
      "foldnorm: statistic=0.15326685301614368, pvalue=0.0\n",
      "genpareto: statistic=0.2058375788698672, pvalue=0.0\n",
      "genexpon: statistic=0.242127263153812, pvalue=0.0\n",
      "genhalflogistic: statistic=0.15721085362609433, pvalue=0.0\n",
      "gilbrat: statistic=0.15030569624421153, pvalue=0.0\n",
      "gompertz: statistic=0.967705709516431, pvalue=0.0\n",
      "gumbel_l: statistic=0.15146932074126224, pvalue=0.0\n",
      "halfcauchy: statistic=0.20739045689022306, pvalue=0.0\n",
      "halflogistic: statistic=0.20628163612048883, pvalue=0.0\n",
      "halfnorm: statistic=0.19553819559961078, pvalue=0.0\n",
      "halfgennorm: statistic=0.34121765071911264, pvalue=0.0\n",
      "levy: statistic=0.3901248985782918, pvalue=0.0\n",
      "levy_l: statistic=0.5998443200401765, pvalue=0.0\n",
      "loggamma: statistic=0.09709146909152655, pvalue=0.0\n",
      "lomax: statistic=0.24603570635427147, pvalue=0.0\n",
      "ncx2: statistic=0.9130521087401513, pvalue=0.0\n",
      "ncf: statistic=0.3610392499881623, pvalue=0.0\n",
      "norm: statistic=0.09342319856251857, pvalue=0.0\n",
      "pareto: statistic=0.4419233415007679, pvalue=0.0\n",
      "powerlaw: statistic=0.35390812142690153, pvalue=0.0\n",
      "powerlognorm: statistic=0.2585838635036948, pvalue=0.0\n",
      "powernorm: statistic=0.8340356825704367, pvalue=0.0\n",
      "rdist: statistic=0.0940881503347285, pvalue=0.0\n",
      "reciprocal: statistic=1.0, pvalue=0.0\n",
      "semicircular: statistic=0.44215651067710765, pvalue=0.0\n",
      "triang: statistic=0.2721740526790346, pvalue=0.0\n",
      "truncexpon: statistic=0.2976305121648014, pvalue=0.0\n",
      "truncnorm: statistic=1.0, pvalue=0.0\n",
      "uniform: statistic=0.45627634794148864, pvalue=0.0\n",
      "vonmises: statistic=6.753956373257236e+29, pvalue=0.0\n",
      "wald: statistic=0.13337819287456135, pvalue=0.0\n",
      "weibull_min: statistic=0.7497853841227284, pvalue=0.0\n",
      "weibull_max: statistic=0.8457231578709076, pvalue=0.0\n"
     ]
    }
   ],
   "source": [
    "list_of_dists = ['alpha','anglit','arcsine','beta','betaprime','bradford','burr','burr12','cauchy','chi','chi2','cosine',\n",
    "                 'dgamma','dweibull','erlang','expon','exponnorm','exponweib','exponpow','f','fatiguelife','fisk','foldcauchy',\n",
    "                 'foldnorm','genlogistic','genpareto','gennorm','genexpon','genextreme','gausshyper',\n",
    "                 'gamma','gengamma','genhalflogistic','gilbrat','gompertz','gumbel_r','gumbel_l','halfcauchy','halflogistic',\n",
    "                 'halfnorm','halfgennorm','hypsecant','invgamma','invgauss','invweibull','johnsonsb','johnsonsu','kstwobign',\n",
    "                 'laplace','levy','levy_l','logistic','loggamma','loglaplace','lognorm','lomax','maxwell','mielke','nakagami',\n",
    "                 'ncx2','ncf','nct','norm','pareto','pearson3','powerlaw','powerlognorm','powernorm','rdist','reciprocal',\n",
    "                 'rayleigh','rice','recipinvgauss','semicircular','t','triang','truncexpon','truncnorm','tukeylambda','uniform',\n",
    "                 'vonmises','vonmises_line','wald','weibull_min','weibull_max']\n",
    "results = []\n",
    "for i in list_of_dists:\n",
    "    dist = getattr(stats, i)\n",
    "    param = dist.fit(dd)\n",
    "    a = stats.kstest(dd, i, args=param)\n",
    "    results.append((i,a[0],a[1]))\n",
    "    \n",
    "    \n",
    "results.sort(key=lambda x:float(x[2]), reverse=True)\n",
    "for j in results:\n",
    "    print(\"{}: statistic={}, pvalue={}\".format(j[0], j[1], j[2]))"
   ]
  },
  {
   "cell_type": "markdown",
   "id": "c25b18e8",
   "metadata": {},
   "source": [
    "<p>So let’s take a look at the code. the first line is defining a list that contains the names of almost all SciPy distributions (It contains 85 of them). Next, we define an empty list called results. Next, there is a loop. This loop takes each distribution one by one, fits it to the data, performs K-S test on it and records the result in the results list. Next, the results are sorted based on the highest p-value (Hence the lowest statistic), and they are printed.</p> \n",
    "<p>Now, with regard to the results, it seems the best fitted distribution is <b>Fisk</b><a href='https://docs.scipy.org/doc/scipy/reference/generated/scipy.stats.fisk.html'> (is also known as the <b>log-logistic</b> distribution)</a></p>"
   ]
  },
  {
   "cell_type": "markdown",
   "id": "578060a9",
   "metadata": {},
   "source": [
    "The test basically gives us a statistic and a p-value, that we have to interpret the results by looking at a K-S test table.\n",
    "Since our sample size contains more than 50 data points (61935), we must look at the last row of the table."
   ]
  },
  {
   "cell_type": "markdown",
   "id": "919866ef",
   "metadata": {},
   "source": [
    "<h3 style='text-align: center'>K-S Test P-Value Table</h3>\n",
    "<img src=\"files/k-s-test-table-p-value.png\" alt=\"K-S test table p-value\">\n",
    "<p style='text-align: center'><a href='https://www.statisticshowto.com/kolmogorov-smirnov-test/'>Reference</a></p>"
   ]
  },
  {
   "cell_type": "code",
   "execution_count": 74,
   "id": "02f1c510",
   "metadata": {},
   "outputs": [
    {
     "name": "stdout",
     "output_type": "stream",
     "text": [
      "K-S table Value for alpha level 0.01 (99% confidence):  0.006549671726546201\n",
      "K-S table Value for alpha level 0.05 (95% confidence):  0.005464756777977199\n",
      "K-S table Value for alpha level 0.10 (90% confidence):  0.004902208286126604\n",
      "K-S table Value for alpha level 0.15 (85% confidence):  0.004580752005069122\n",
      "K-S table Value for alpha level 0.02 (80% confidence):  0.004299477759143825\n"
     ]
    }
   ],
   "source": [
    "alpha_01 = 1.63/np.sqrt(61935)\n",
    "print(\"K-S table Value for alpha level 0.01 (99% confidence): \", alpha_01)\n",
    "\n",
    "alpha_05 = 1.36/np.sqrt(61935)\n",
    "print(\"K-S table Value for alpha level 0.05 (95% confidence): \", alpha_05)\n",
    "\n",
    "alpha_1 = 1.22/np.sqrt(61935)\n",
    "print(\"K-S table Value for alpha level 0.10 (90% confidence): \", alpha_1)\n",
    "\n",
    "alpha_15 = 1.14/np.sqrt(61935)\n",
    "print(\"K-S table Value for alpha level 0.15 (85% confidence): \", alpha_15)\n",
    "\n",
    "alpha_2 = 1.07/np.sqrt(61935)\n",
    "print(\"K-S table Value for alpha level 0.02 (80% confidence): \", alpha_2)"
   ]
  },
  {
   "cell_type": "markdown",
   "id": "6c28d083",
   "metadata": {},
   "source": [
    "<p>Our test statistic for Fisk is 0.016594404322601605.</p>\n",
    "And the alpha level 0.2 is 0.004299477759143825.\n",
    "<p>If the statistic was less than alpha level, then we could consider that with 80% confidence that our data comes from Fisk distribution or in other word, the null hypothesis (that the distributions are the same) is accepted.</p>\n",
    "<p>In addition the P-value is significantly less than 0.02 (>> 3.029160312639502e-15), we reject the null hypothesis and accept the alternative hypothesis that two samples tested are not from the same cumulative distribution, meaning that our data are not Fisk distributed respected to the Kolmogorov–Smirnov test.</p>\n",
    "<p>And also by checking test statistic and P-value for other distributions, we realised that this test is not fitted to our data.</p>\n"
   ]
  },
  {
   "cell_type": "markdown",
   "id": "7d65ee11",
   "metadata": {},
   "source": [
    "<h5>Kolmogorov–Smirnov test on the Burr parameters calculated by Matlab</h5>\n",
    "<p>The Burr distribution parameters we found on our data in the Matlab is completely difference with ones calculated in python.</p>"
   ]
  },
  {
   "cell_type": "markdown",
   "id": "8293223a",
   "metadata": {},
   "source": [
    "<h3 style='text-align: center'>Burr Parameters calculated by Matlab</h3>\n",
    "<img src=\"files/burr_matlab.png\" alt=\"Burr Matlab\" style='width:700px'>"
   ]
  },
  {
   "cell_type": "markdown",
   "id": "349175d7",
   "metadata": {},
   "source": [
    "<h3 style='text-align: center'>Comparing Parameters for Burr distribution in python and Matlab</h3>\n",
    "<img src=\"files/table_burr.png\" alt=\"Burr table\" style='width:700px'>"
   ]
  },
  {
   "cell_type": "markdown",
   "id": "19984bc6",
   "metadata": {},
   "source": [
    "So we decided to generate random number based on the Burr distribution respected to the parameters we found in Matlab.\n",
    "And then carry out the Kolmogorov_Smirnov test on random generated data and our velocity data."
   ]
  },
  {
   "cell_type": "code",
   "execution_count": 179,
   "id": "c86e477d",
   "metadata": {},
   "outputs": [
    {
     "data": {
      "text/plain": [
       "KstestResult(statistic=0.6357633002341163, pvalue=0.0)"
      ]
     },
     "execution_count": 179,
     "metadata": {},
     "output_type": "execute_result"
    }
   ],
   "source": [
    "from scipy.stats import ks_2samp\n",
    "from scipy.stats import burr\n",
    "data_burr = burr.rvs(size=61935, c=2.67046, d=2.42592, scale=93.0859, random_state=123)\n",
    "ks_2samp(dd, data_burr)"
   ]
  },
  {
   "cell_type": "markdown",
   "id": "5c32a607",
   "metadata": {},
   "source": [
    "for this parameters the P-value is 0 and based on the K-S test we could not say these data follow Burr distribution."
   ]
  },
  {
   "cell_type": "markdown",
   "id": "1f790747",
   "metadata": {},
   "source": [
    "<h3 style='text-align: center'>Log-Logistic (Fisk) parameters calculated by Matlab</h3>\n",
    "<img src=\"files/log_logistic_matlab.png\" alt=\"Log-Logistic Matlab\" style='width:700px'>"
   ]
  },
  {
   "cell_type": "markdown",
   "id": "ce349044",
   "metadata": {},
   "source": [
    "<h3 style='text-align: center'>Comparing Parameters for Log-Logistic (Fisk) distribution in python and Matlab</h3>\n",
    "<img src=\"files/table_fisk.png\" alt=\"fisk table\" style='width:700px'>"
   ]
  },
  {
   "cell_type": "markdown",
   "id": "21b0ada3",
   "metadata": {},
   "source": [
    "As you can see in the above pictures, the type of calculated values for Fisk distribution are completely difference from ones found in python."
   ]
  },
  {
   "cell_type": "markdown",
   "id": "6c536489",
   "metadata": {},
   "source": [
    "<h5>Conclusion</h5>\n",
    "<p>For finding the best fitted distribution in our data, we conducted <b><a href='https://en.wikipedia.org/wiki/Kolmogorov%E2%80%93Smirnov_test'>Kolmogorov–Smirnov</a></b> and <b><a href='https://en.wikipedia.org/wiki/Residual_sum_of_squares'>sum of squared estimate of errors (SSE)</a></b> tests by using the different packages in python.<br>\n",
    "We realised that for finding the best fitted distribution on our velocity data we could not make use of Kolmogorov–Smirnov test.<br>\n",
    "But by using the Fitter package in python and SSE technique, found the best distribution on our velocity data are <b>Burr</b>, and <b>Fisk (Log-Logistic)</b>.\n",
    "</p>"
   ]
  }
 ],
 "metadata": {
  "kernelspec": {
   "display_name": "Python 3",
   "language": "python",
   "name": "python3"
  },
  "language_info": {
   "codemirror_mode": {
    "name": "ipython",
    "version": 3
   },
   "file_extension": ".py",
   "mimetype": "text/x-python",
   "name": "python",
   "nbconvert_exporter": "python",
   "pygments_lexer": "ipython3",
   "version": "3.8.8"
  }
 },
 "nbformat": 4,
 "nbformat_minor": 5
}
